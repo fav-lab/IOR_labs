{
 "cells": [
  {
   "cell_type": "markdown",
   "metadata": {
    "id": "N5-rYr_CepDz"
   },
   "source": [
    "# 🚛 Example 3: Transportation Problem using Gurobi\n",
    "\n",
    "This example demonstrates solving a **classical transportation problem** using **Gurobi** in Python. The goal is to minimize the total cost of transporting goods from supply sources to demand destinations.\n",
    "\n",
    "Transportation problems are fundamental in **operations research** and are widely used in logistics, supply chain management, and distribution planning.\n",
    "\n",
    "---\n",
    "\n",
    "## 🔢 Mathematical Formulation\n",
    "\n",
    "We want to:\n",
    "\n",
    "**Minimize:**\n",
    "$$\\sum_{i \\in I} \\sum_{j \\in J} c_{ij} \\cdot x_{ij}$$\n",
    "\n",
    "**Subject to:**\n",
    "\n",
    "**Supply Constraints:**\n",
    "$$\\sum_{j \\in J} x_{ij} \\leq s_i, \\quad \\forall i \\in I$$\n",
    "\n",
    "**Demand Constraints:**\n",
    "$$\\sum_{i \\in I} x_{ij} = d_j, \\quad \\forall j \\in J$$\n",
    "\n",
    "**Non-negativity:**\n",
    "$$x_{ij} \\geq 0, \\quad \\forall i \\in I, \\forall j \\in J$$\n",
    "\n",
    "**Where:**\n",
    "- $x_{ij}$ = units transported from source $i$ to destination $j$\n",
    "- $c_{ij}$ = cost per unit from source $i$ to destination $j$\n",
    "- $s_i$ = supply capacity at source $i$\n",
    "- $d_j$ = demand requirement at destination $j$\n",
    "- $I$ = set of sources, $J$ = set of destinations\n",
    "\n",
    "---\n",
    "\n",
    "## 📊 Problem Instance\n",
    "\n",
    "**Sources:** S1, S2  \n",
    "**Destinations:** D1, D2, D3\n",
    "\n",
    "**Supply Capacities:**\n",
    "- S1: 20 units\n",
    "- S2: 30 units\n",
    "- **Total Supply:** 50 units\n",
    "\n",
    "**Demand Requirements:**\n",
    "- D1: 10 units  \n",
    "- D2: 25 units\n",
    "- D3: 15 units\n",
    "- **Total Demand:** 50 units\n",
    "\n",
    "**Transportation Costs (per unit):**\n",
    "\n",
    "| From/To | D1 | D2 | D3 |\n",
    "|---------|----|----|----|\n",
    "| **S1**  | 8  | 6  | 10 |\n",
    "| **S2**  | 9  | 12 | 7  |\n",
    "\n",
    "---\n",
    "\n",
    "🎯 This is a **balanced transportation problem** since total supply equals total demand (50 = 50).\n",
    "\n",
    "The model will find the optimal allocation that minimizes total transportation cost while satisfying all supply and demand constraints."
   ]
  },
  {
   "cell_type": "code",
   "execution_count": null,
   "metadata": {
    "colab": {
     "base_uri": "https://localhost:8080/"
    },
    "id": "N9xBZMducn7x",
    "outputId": "4228becd-d5e6-4a53-b7a0-4bf2dbe33220"
   },
   "outputs": [
    {
     "name": "stdout",
     "output_type": "stream",
     "text": [
      "Gurobi Optimizer version 12.0.3 build v12.0.3rc0 (linux64 - \"Ubuntu 22.04.4 LTS\")\n",
      "\n",
      "CPU model: Intel(R) Xeon(R) CPU @ 2.20GHz, instruction set [SSE2|AVX|AVX2]\n",
      "Thread count: 1 physical cores, 2 logical processors, using up to 2 threads\n",
      "\n",
      "Optimize a model with 5 rows, 6 columns and 12 nonzeros\n",
      "Model fingerprint: 0xab1bdb4e\n",
      "Coefficient statistics:\n",
      "  Matrix range     [1e+00, 1e+00]\n",
      "  Objective range  [6e+00, 1e+01]\n",
      "  Bounds range     [0e+00, 0e+00]\n",
      "  RHS range        [1e+01, 3e+01]\n",
      "Presolve removed 5 rows and 6 columns\n",
      "Presolve time: 0.01s\n",
      "Presolve: All rows and columns removed\n",
      "Iteration    Objective       Primal Inf.    Dual Inf.      Time\n",
      "       0    3.7500000e+02   0.000000e+00   0.000000e+00      0s\n",
      "\n",
      "Solved in 0 iterations and 0.01 seconds (0.00 work units)\n",
      "Optimal objective  3.750000000e+02\n",
      "Transport 20.0 units from S1 to D2 at cost 6 per unit\n",
      "Transport 10.0 units from S2 to D1 at cost 9 per unit\n",
      "Transport 5.0 units from S2 to D2 at cost 12 per unit\n",
      "Transport 15.0 units from S2 to D3 at cost 7 per unit\n"
     ]
    }
   ],
   "source": [
    "# Transportation model\n",
    "\n",
    "import gurobipy as gp\n",
    "from gurobipy import GRB\n",
    "\n",
    "# Define the data\n",
    "sources = ['S1', 'S2']\n",
    "demands = ['D1', 'D2', 'D3']\n",
    "supply = {'S1': 20, 'S2': 30}\n",
    "demand = {'D1': 10, 'D2': 25, 'D3': 15}\n",
    "cost = {\n",
    "    ('S1', 'D1'): 8, ('S1', 'D2'): 6, ('S1', 'D3'): 10,\n",
    "    ('S2', 'D1'): 9, ('S2', 'D2'): 12, ('S2', 'D3'): 7\n",
    "}\n",
    "\n",
    "# Create a new model\n",
    "model = gp.Model(\"transportation\")\n",
    "\n",
    "# Create variables\n",
    "x = model.addVars(sources, demands, name=\"x\")\n",
    "\n",
    "# Set objective\n",
    "model.setObjective(gp.quicksum(cost[s, d] * x[s, d] for s in sources for d in demands), GRB.MINIMIZE)\n",
    "\n",
    "# Add supply constraints\n",
    "model.addConstrs((gp.quicksum(x[s, d] for d in demands) <= supply[s] for s in sources), name=\"Supply\")\n",
    "\n",
    "# Add demand constraints\n",
    "model.addConstrs((gp.quicksum(x[s, d] for s in sources) == demand[d] for d in demands), name=\"Demand\")\n",
    "\n",
    "# Optimize model\n",
    "model.optimize()\n",
    "\n",
    "# Print the results\n",
    "if model.status == GRB.OPTIMAL:\n",
    "    for s in sources:\n",
    "        for d in demands:\n",
    "            if x[s, d].x > 0:\n",
    "                print(f\"Transport {x[s, d].x} units from {s} to {d} at cost {cost[s, d]} per unit\")\n",
    "else:\n",
    "    print(\"No optimal solution found\")"
   ]
  },
  {
   "cell_type": "code",
   "execution_count": null,
   "metadata": {
    "id": "m69GNvV3xjev"
   },
   "outputs": [],
   "source": []
  }
 ],
 "metadata": {
  "colab": {
   "provenance": []
  },
  "kernelspec": {
   "display_name": "Python 3 (ipykernel)",
   "language": "python",
   "name": "python3"
  },
  "language_info": {
   "codemirror_mode": {
    "name": "ipython",
    "version": 3
   },
   "file_extension": ".py",
   "mimetype": "text/x-python",
   "name": "python",
   "nbconvert_exporter": "python",
   "pygments_lexer": "ipython3",
   "version": "3.13.3"
  }
 },
 "nbformat": 4,
 "nbformat_minor": 4
}
