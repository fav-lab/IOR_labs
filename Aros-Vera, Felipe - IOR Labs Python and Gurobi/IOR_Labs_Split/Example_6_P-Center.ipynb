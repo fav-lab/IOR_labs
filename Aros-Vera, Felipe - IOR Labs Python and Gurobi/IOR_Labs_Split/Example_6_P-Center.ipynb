{
 "cells": [
  {
   "cell_type": "markdown",
   "metadata": {
    "id": "i4Z_OEpHvslz"
   },
   "source": [
    "### 📍 Example 6: P-Center Optimization Problem\n",
    "\n",
    "The **P-Center problem** is a classic facility location problem where the objective is to **minimize the maximum distance** any demand point must travel to reach an open facility. This is useful in applications where service quality is measured by the **worst-case response time**, such as emergency facilities.\n",
    "\n",
    "🧠 **Objective:**\n",
    "Minimize the maximum distance `z` between any demand point and the facility it's assigned to.\n",
    "\n",
    "🧩 **Mathematical Formulation:**\n",
    "\n",
    "Minimize:\n",
    "\n",
    "\\[\n",
    "z\n",
    "\\]\n",
    "\n",
    "Subject to:\n",
    "\n",
    "- Each demand point is assigned to **exactly one** facility  \n",
    "- Demand can only be assigned to **opened** facilities  \n",
    "- Only `p` facilities are allowed to be opened  \n",
    "- Distance between any assigned demand-facility pair is ≤ `z`\n",
    "\n",
    "📦 **Data Used:**\n",
    "- 4 demand points: D1, D2, D3, D4  \n",
    "- 3 facility candidates: F1, F2, F3  \n",
    "- Distance matrix `d[i,j]`  \n",
    "- Number of facilities to open `p = 2`\n",
    "\n",
    "📐 **Goal:** Assign demand points to open facilities such that the **maximum** distance is minimized.\n"
   ]
  },
  {
   "cell_type": "code",
   "execution_count": null,
   "metadata": {
    "colab": {
     "base_uri": "https://localhost:8080/"
    },
    "id": "1P0Nx9hQjjbZ",
    "outputId": "b5d0f163-578f-4e38-ad13-463dc8cc8d6f"
   },
   "outputs": [
    {
     "name": "stdout",
     "output_type": "stream",
     "text": [
      "Gurobi Optimizer version 12.0.3 build v12.0.3rc0 (linux64 - \"Ubuntu 22.04.4 LTS\")\n",
      "\n",
      "CPU model: Intel(R) Xeon(R) CPU @ 2.20GHz, instruction set [SSE2|AVX|AVX2]\n",
      "Thread count: 1 physical cores, 2 logical processors, using up to 2 threads\n",
      "\n",
      "Optimize a model with 29 rows, 16 columns and 63 nonzeros\n",
      "Model fingerprint: 0x10c2414d\n",
      "Variable types: 1 continuous, 15 integer (15 binary)\n",
      "Coefficient statistics:\n",
      "  Matrix range     [1e+00, 6e+00]\n",
      "  Objective range  [1e+00, 1e+00]\n",
      "  Bounds range     [1e+00, 1e+00]\n",
      "  RHS range        [1e+00, 2e+00]\n",
      "Found heuristic solution: objective 6.0000000\n",
      "Presolve removed 29 rows and 16 columns\n",
      "Presolve time: 0.00s\n",
      "Presolve: All rows and columns removed\n",
      "\n",
      "Explored 0 nodes (0 simplex iterations) in 0.01 seconds (0.00 work units)\n",
      "Thread count was 1 (of 2 available processors)\n",
      "\n",
      "Solution count 2: 3 6 \n",
      "\n",
      "Optimal solution found (tolerance 1.00e-04)\n",
      "Best objective 3.000000000000e+00, best bound 3.000000000000e+00, gap 0.0000%\n",
      "Optimal solution found:\n",
      "Facility located at F1\n",
      "Facility located at F3\n",
      "Demand point D1 is assigned to facility F1\n",
      "Demand point D2 is assigned to facility F1\n",
      "Demand point D3 is assigned to facility F3\n",
      "Demand point D4 is assigned to facility F3\n",
      "Maximum distance: 3.0\n"
     ]
    }
   ],
   "source": [
    "import gurobipy as gp\n",
    "from gurobipy import GRB\n",
    "\n",
    "# Define the data\n",
    "I = ['D1', 'D2', 'D3', 'D4']\n",
    "J = ['F1', 'F2', 'F3']\n",
    "d = {\n",
    "    ('D1', 'F1'): 2, ('D1', 'F2'): 4, ('D1', 'F3'): 5,\n",
    "    ('D2', 'F1'): 3, ('D2', 'F2'): 2, ('D2', 'F3'): 6,\n",
    "    ('D3', 'F1'): 4, ('D3', 'F2'): 3, ('D3', 'F3'): 2,\n",
    "    ('D4', 'F1'): 5, ('D4', 'F2'): 6, ('D4', 'F3'): 3\n",
    "}\n",
    "p = 2\n",
    "\n",
    "# Create a new model\n",
    "model = gp.Model(\"p-center\")\n",
    "\n",
    "# Create variables\n",
    "x = model.addVars(J, vtype=GRB.BINARY, name=\"x\")\n",
    "y = model.addVars(I, J, vtype=GRB.BINARY, name=\"y\")\n",
    "z = model.addVar(vtype=GRB.CONTINUOUS, name=\"z\")\n",
    "\n",
    "# Set objective\n",
    "model.setObjective(z, GRB.MINIMIZE)\n",
    "\n",
    "# Add constraints\n",
    "model.addConstrs((gp.quicksum(y[i, j] for j in J) == 1 for i in I), name=\"Assign\")\n",
    "model.addConstrs((y[i, j] <= x[j] for i in I for j in J), name=\"Open\")\n",
    "model.addConstr(gp.quicksum(x[j] for j in J) == p, name=\"FacilityCount\")\n",
    "model.addConstrs((d[i, j] * y[i, j] <= z for i in I for j in J), name=\"MaxDistance\")\n",
    "\n",
    "# Optimize model\n",
    "model.optimize()\n",
    "\n",
    "# Print the results\n",
    "if model.status == GRB.OPTIMAL:\n",
    "    print(\"Optimal solution found:\")\n",
    "    for j in J:\n",
    "        if x[j].x > 0.5:\n",
    "            print(f\"Facility located at {j}\")\n",
    "    for i in I:\n",
    "        for j in J:\n",
    "            if y[i, j].x > 0.5:\n",
    "                print(f\"Demand point {i} is assigned to facility {j}\")\n",
    "    print(f\"Maximum distance: {z.x}\")\n",
    "else:\n",
    "    print(\"No optimal solution found\")"
   ]
  },
  {
   "cell_type": "markdown",
   "metadata": {
    "id": "4Sxi2Yugv-aj"
   },
   "source": [
    "### 🗺️ Visualization of P-Center Solution\n",
    "This mini visualization provides a **graphical view** of the optimal assignment of demand points to open facilities.\n",
    "\n",
    "#### 🔎 What You See:\n",
    "- **Blue nodes** on the left: Represent demand points (D1, D2, D3, D4)\n",
    "- **Red nodes** on the right: Represent the **opened** facility locations  \n",
    "- **Gray nodes**: Facility candidates **not selected**\n",
    "- **Edges**: Represent which demand point is assigned to which facility\n",
    "\n",
    "#### 🎯 Key Insights:\n",
    "- Each demand point is connected to **exactly one** facility\n",
    "- Only **p = 2** facilities are opened, based on the optimization result\n",
    "- The goal is to minimize the **maximum distance** (worst-case assignment)\n",
    "\n",
    "This helps verify the logic and outcome of the model visually — even in small examples.\n"
   ]
  },
  {
   "cell_type": "code",
   "execution_count": null,
   "metadata": {
    "colab": {
     "base_uri": "https://localhost:8080/",
     "height": 471
    },
    "id": "nzY-Z_v0v-Dd",
    "outputId": "0155ad31-ec28-4f89-ebaa-bc867db1a941"
   },
   "outputs": [
    {
     "name": "stderr",
     "output_type": "stream",
     "text": [
      "/tmp/ipython-input-2116539359.py:39: UserWarning: This figure includes Axes that are not compatible with tight_layout, so results might be incorrect.\n",
      "  plt.tight_layout()\n"
     ]
    },
    {
     "data": {
      "image/png": "[encoded data removed]",
      "text/plain": [
       "<Figure size 600x400 with 1 Axes>"
      ]
     },
     "metadata": {},
     "output_type": "display_data"
    }
   ],
   "source": [
    "import networkx as nx\n",
    "import matplotlib.pyplot as plt\n",
    "\n",
    "# Create directed graph\n",
    "G = nx.DiGraph()\n",
    "\n",
    "# Layout config\n",
    "node_colors = []\n",
    "node_pos = {}\n",
    "y_gap = 1.2\n",
    "\n",
    "# Demand nodes on left\n",
    "for idx, i in enumerate(I):\n",
    "    G.add_node(i)\n",
    "    node_colors.append('skyblue')\n",
    "    node_pos[i] = (0, -idx * y_gap)\n",
    "\n",
    "# Facility nodes on right\n",
    "for idx, j in enumerate(J):\n",
    "    G.add_node(j)\n",
    "    color = 'tomato' if x[j].x > 0.5 else 'lightgray'\n",
    "    node_colors.append(color)\n",
    "    node_pos[j] = (2.5, -idx * y_gap)\n",
    "\n",
    "# Add edges for assignments\n",
    "for i in I:\n",
    "    for j in J:\n",
    "        if y[i, j].x > 0.5:\n",
    "            G.add_edge(i, j)\n",
    "\n",
    "# Plot\n",
    "plt.figure(figsize=(6, 4))\n",
    "nx.draw(G, pos=node_pos, with_labels=True,\n",
    "        node_color=node_colors, node_size=1000,\n",
    "        arrows=False, edge_color='gray', width=2,\n",
    "        font_size=10, font_weight='bold')\n",
    "\n",
    "plt.axis('off')\n",
    "plt.tight_layout()\n",
    "plt.show()\n"
   ]
  },
  {
   "cell_type": "code",
   "execution_count": null,
   "metadata": {
    "id": "m69GNvV3xjev"
   },
   "outputs": [],
   "source": []
  }
 ],
 "metadata": {
  "colab": {
   "provenance": []
  },
  "kernelspec": {
   "display_name": "Python 3 (ipykernel)",
   "language": "python",
   "name": "python3"
  },
  "language_info": {
   "codemirror_mode": {
    "name": "ipython",
    "version": 3
   },
   "file_extension": ".py",
   "mimetype": "text/x-python",
   "name": "python",
   "nbconvert_exporter": "python",
   "pygments_lexer": "ipython3",
   "version": "3.13.3"
  }
 },
 "nbformat": 4,
 "nbformat_minor": 4
}
