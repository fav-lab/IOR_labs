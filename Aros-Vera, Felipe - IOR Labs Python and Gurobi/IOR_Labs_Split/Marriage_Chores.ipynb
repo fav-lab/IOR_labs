{
 "cells": [
  {
   "cell_type": "code",
   "execution_count": null,
   "metadata": {},
   "outputs": [],
   "source": [
    "#You can uncomment the line below to install the required packages\n",
    "#pip install pulp pandas numpy matplotlib"
   ]
  },
  {
   "cell_type": "markdown",
   "metadata": {},
   "source": [
    "# *🧠 Example 1: Marriage chores*\n",
    "\n",
    "*The marriage chores problem is a simple binary optimization model. It models real-life scenarios where we must choose who \n",
    "does the house chores while minimizing total time. All chores must be done and* each person has to do at most two chores.*"
   ]
  },
  {
   "cell_type": "markdown",
   "metadata": {},
   "source": [
    "You are happily married and you need to start doing weekly tasks around the house. The amount of time that you and your spouse spend on each task is shown in the table below. You must assign these tasks to either you or your spouse. To be fair, every person will do two tasks and your objective is to minimize the total time taken to do these tasks. Formulate and solve a mathematical optimization model that solves this problem and you can live happy."
   ]
  },
  {
   "cell_type": "markdown",
   "metadata": {},
   "source": [
    "| Person      | Going to the store | Cooking   | Doing dishes | Doing Laundry |\n",
    "|-------------|--------------------|-----------|--------------|---------------|\n",
    "| you ($x_i$) | 4.5                |       7.8 |          3.6 |           2.9 | \n",
    "| your spouse ($y_i$) | 4.9                |       7.2 |          4.3 |           3.1 |"
   ]
  },
  {
   "cell_type": "code",
   "execution_count": null,
   "metadata": {},
   "outputs": [],
   "source": [
    "from pulp import *"
   ]
  },
  {
   "cell_type": "code",
   "execution_count": null,
   "metadata": {},
   "outputs": [],
   "source": [
    "People = [\"You\", \"Spouse\"]\n",
    "People"
   ]
  },
  {
   "cell_type": "code",
   "execution_count": null,
   "metadata": {},
   "outputs": [],
   "source": [
    "Chores = [\"Store\", \"Cooking\", \"Dishes\", \"Laundry\"]\n",
    "Chores"
   ]
  },
  {
   "cell_type": "code",
   "execution_count": null,
   "metadata": {},
   "outputs": [],
   "source": [
    "Time = [  # Bars\n",
    "    # 1 2 3 4 5\n",
    "    [4.5, 7.8, 3.6, 2.9],  # You\n",
    "    [4.9, 7.2, 4.3, 3.1],  # Your spouse\n",
    "]\n",
    "# The time data is made into a dictionary\n",
    "Time_dict = makeDict([People, Chores], Time, 0)\n",
    "Time"
   ]
  },
  {
   "cell_type": "code",
   "execution_count": null,
   "metadata": {},
   "outputs": [],
   "source": [
    "prob = LpProblem(\"MarriageChores\", LpMinimize)"
   ]
  },
  {
   "cell_type": "code",
   "execution_count": null,
   "metadata": {},
   "outputs": [],
   "source": [
    "Options = [(i, j) for i in People for j in Chores] "
   ]
  },
  {
   "cell_type": "code",
   "execution_count": null,
   "metadata": {},
   "outputs": [],
   "source": [
    "vars = LpVariable.dicts(\"Chore\", (People, Chores), 0, None, LpBinary)"
   ]
  },
  {
   "cell_type": "code",
   "execution_count": null,
   "metadata": {},
   "outputs": [],
   "source": [
    "prob += (\n",
    "    lpSum([vars[i][j] * Time_dict[i][j] for (i, j) in Options]),\n",
    "    \"Sum_of_Chore_Costs\",\n",
    ")"
   ]
  },
  {
   "cell_type": "code",
   "execution_count": null,
   "metadata": {},
   "outputs": [],
   "source": [
    "for i in People:\n",
    "    prob += (\n",
    "        lpSum([vars[i][j] for j in Chores]) == 2,\n",
    "        f\"Sum_of_Chores_Person{i}\",\n",
    "    )\n",
    "\n",
    "for j in Chores:\n",
    "    prob += (\n",
    "        lpSum([vars[i][j] for i in People]) == 1,\n",
    "        f\"All_Chores_Done{j}\",\n",
    "    )"
   ]
  },
  {
   "cell_type": "code",
   "execution_count": null,
   "metadata": {},
   "outputs": [],
   "source": [
    "prob.solve()\n",
    "print(\"Status:\", LpStatus[prob.status])\n",
    "for v in prob.variables():\n",
    "    print(v.name, \"=\", v.varValue)\n",
    "print(\"Total Time per week = \", value(prob.objective))"
   ]
  },
  {
   "cell_type": "code",
   "execution_count": null,
   "metadata": {},
   "outputs": [],
   "source": []
  },
  {
   "cell_type": "code",
   "execution_count": null,
   "metadata": {},
   "outputs": [],
   "source": [
    "import pulp as pl\n",
    "\n",
    "# List all available solvers in your environment\n",
    "available_solvers = pl.listSolvers(onlyAvailable=True)\n",
    "print(available_solvers)"
   ]
  },
  {
   "cell_type": "code",
   "execution_count": null,
   "metadata": {},
   "outputs": [],
   "source": []
  },
  {
   "cell_type": "code",
   "execution_count": null,
   "metadata": {},
   "outputs": [],
   "source": []
  }
 ],
 "metadata": {
  "colab": {
   "provenance": []
  },
  "kernelspec": {
   "display_name": "Python 3 (ipykernel)",
   "language": "python",
   "name": "python3"
  },
  "language_info": {
   "codemirror_mode": {
    "name": "ipython",
    "version": 3
   },
   "file_extension": ".py",
   "mimetype": "text/x-python",
   "name": "python",
   "nbconvert_exporter": "python",
   "pygments_lexer": "ipython3",
   "version": "3.11.7"
  }
 },
 "nbformat": 4,
 "nbformat_minor": 4
}
