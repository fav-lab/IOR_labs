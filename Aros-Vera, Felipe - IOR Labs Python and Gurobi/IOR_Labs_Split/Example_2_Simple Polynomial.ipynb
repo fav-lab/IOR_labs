{
 "cells": [
  {
   "cell_type": "markdown",
   "metadata": {
    "id": "4EC0Osmhbm9L"
   },
   "source": [
    "# 🧠 Example 2: Simple Polynomial Optimization using Gurobi\n",
    "\n",
    "In this example, we solve a basic nonlinear optimization problem using **Gurobi** in Python. The objective is a polynomial (quadratic) function with one linear constraint.\n",
    "\n",
    "This type of model is helpful when the relationship between decision variables and outcomes (e.g., cost, profit, utility) is *nonlinear*.\n",
    "\n",
    "---\n",
    "\n",
    "## 🔢 Mathematical Formulation\n",
    "\n",
    "We want to:\n",
    "\n",
    "**Maximize:**\n",
    "$$3x^{2} + y^{2} - 2z^{2}$$\n",
    "\n",
    "**Subject to:**\n",
    "$$3x + 2y - 8z = -50$$\n",
    "\n",
    "**Where:**\n",
    "$$x, y, z \\in \\mathbb{R}$$\n",
    "\n",
    "---\n",
    "\n",
    "🧮 This is a **Quadratic Program (QP)**, where the objective is quadratic, and the constraint is linear."
   ]
  },
  {
   "cell_type": "code",
   "execution_count": null,
   "metadata": {
    "colab": {
     "base_uri": "https://localhost:8080/"
    },
    "id": "8thf_z6abrhT",
    "outputId": "d8154243-10f4-41ab-96aa-9325772f03a0"
   },
   "outputs": [
    {
     "name": "stdout",
     "output_type": "stream",
     "text": [
      "Gurobi Optimizer version 12.0.3 build v12.0.3rc0 (linux64 - \"Ubuntu 22.04.4 LTS\")\n",
      "\n",
      "CPU model: Intel(R) Xeon(R) CPU @ 2.20GHz, instruction set [SSE2|AVX|AVX2]\n",
      "Thread count: 1 physical cores, 2 logical processors, using up to 2 threads\n",
      "\n",
      "Optimize a model with 1 rows, 3 columns and 3 nonzeros\n",
      "Model fingerprint: 0x9c2a78d1\n",
      "Model has 3 quadratic objective terms\n",
      "Coefficient statistics:\n",
      "  Matrix range     [2e+00, 8e+00]\n",
      "  Objective range  [0e+00, 0e+00]\n",
      "  QObjective range [2e+00, 6e+00]\n",
      "  Bounds range     [0e+00, 0e+00]\n",
      "  RHS range        [5e+01, 5e+01]\n",
      "\n",
      "Continuous model is non-convex -- solving as a MIP\n",
      "\n",
      "Presolve time: 0.00s\n",
      "Presolved: 4 rows, 8 columns, 11 nonzeros\n",
      "Presolved model has 1 quadratic constraint(s)\n",
      "Presolved model has 2 bilinear constraint(s)\n",
      "Warning: Model contains variables with very large bounds participating\n",
      "         in product terms.\n",
      "         Presolve was not able to compute smaller bounds for these variables.\n",
      "         Consider bounding these variables or reformulating the model.\n",
      "\n",
      "Variable types: 8 continuous, 0 integer (0 binary)\n",
      "Found heuristic solution: objective 4.561306e+19\n",
      "\n",
      "Root relaxation: unbounded, 2 iterations, 0.00 seconds (0.00 work units)\n",
      "\n",
      "    Nodes    |    Current Node    |     Objective Bounds      |     Work\n",
      " Expl Unexpl |  Obj  Depth IntInf | Incumbent    BestBd   Gap | It/Node Time\n",
      "\n",
      "     0     0  postponed    0      4.5613e+19          -      -     -    0s\n",
      "     0     0  postponed    0      4.5613e+19          -      -     -    0s\n",
      "     0     2  postponed    0      4.5613e+19          -      -     -    0s\n",
      "\n",
      "Explored 485 nodes (258 simplex iterations) in 0.12 seconds (0.01 work units)\n",
      "Thread count was 2 (of 2 available processors)\n",
      "\n",
      "Solution count 1: 4.56131e+19 \n",
      "\n",
      "Sub-optimal termination (unable to solve some node relaxations)\n",
      "Best objective 4.561305596160e+19, best bound -, gap -\n",
      "No optimal solution found.\n"
     ]
    }
   ],
   "source": [
    "# Simple polynomial optimization\n",
    "\n",
    "import gurobipy as gp\n",
    "from gurobipy import GRB\n",
    "\n",
    "# Create a new model\n",
    "model = gp.Model(\"simple_optimization\")\n",
    "\n",
    "# Create variables\n",
    "x = model.addVar(name=\"x\")\n",
    "y = model.addVar(name=\"y\")\n",
    "z = model.addVar(name=\"z\")\n",
    "\n",
    "# Set the objective function\n",
    "model.setObjective(3 * x * x + y * y - 2 * z * z, GRB.MAXIMIZE)\n",
    "\n",
    "# Add constraints\n",
    "model.addConstr(3 * x + 2 * y - 8 * z == -50, \"c0\")\n",
    "\n",
    "# Optimize the model\n",
    "model.optimize()\n",
    "\n",
    "# Print the results\n",
    "if model.status == GRB.OPTIMAL:\n",
    "    for v in model.getVars():\n",
    "        print(f'{v.varName}: {v.x}')\n",
    "    print(f'Objective: {model.objVal}')\n",
    "else:\n",
    "    print(\"No optimal solution found.\")"
   ]
  },
  {
   "cell_type": "code",
   "execution_count": null,
   "metadata": {
    "id": "m69GNvV3xjev"
   },
   "outputs": [],
   "source": []
  }
 ],
 "metadata": {
  "colab": {
   "provenance": []
  },
  "kernelspec": {
   "display_name": "Python 3 (ipykernel)",
   "language": "python",
   "name": "python3"
  },
  "language_info": {
   "codemirror_mode": {
    "name": "ipython",
    "version": 3
   },
   "file_extension": ".py",
   "mimetype": "text/x-python",
   "name": "python",
   "nbconvert_exporter": "python",
   "pygments_lexer": "ipython3",
   "version": "3.13.3"
  }
 },
 "nbformat": 4,
 "nbformat_minor": 4
}
