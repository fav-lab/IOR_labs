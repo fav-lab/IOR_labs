{
 "cells": [
  {
   "cell_type": "markdown",
   "metadata": {
    "id": "PkG7mt2bIUig"
   },
   "source": [
    "# *🧠 Example 1: The 0-1 Knapsack Problem*\n",
    "\n",
    "*The 0-1 Knapsack Problem is a classic combinatorial optimization problem. It models real-life scenarios where we must choose a subset of items that gives the maximum total value* without exceeding a weight limit.*\n",
    "\n"
   ]
  },
  {
   "cell_type": "markdown",
   "metadata": {
    "id": "DwLclhA5LvOS"
   },
   "source": [
    "\n",
    "*🎒 Problem Statement*\n",
    "\n",
    "We are given:\n",
    "- A set of `n` items\n",
    "- Each item `i` has:\n",
    "  - A *weight* `wᵢ`\n",
    "  - A *value* `vᵢ`\n",
    "- A knapsack (bag) that can carry up to `C` kg\n",
    "\n",
    "*Goal:*  \n",
    "Select items so that:\n",
    "- Total **value** is maximized\n",
    "- Total **weight** is within the limit\n",
    "- Items are either **fully included or excluded** (0 or 1 only)\n",
    "\n",
    "This is why it’s called the “0-1” Knapsack Problem.\n",
    "\n"
   ]
  },
  {
   "cell_type": "markdown",
   "metadata": {
    "id": "qQw_dEs6L5zv"
   },
   "source": [
    "*🧪 Example Scenario*\n",
    "\n",
    "You are packing a backpack with a 15 kg weight limit. You have 8 items:\n",
    "\n",
    "| Item | Weight (kg) | Value ($) |\n",
    "|------|-------------|-----------|\n",
    "| 0    | 4           | 10        |\n",
    "| 1    | 2           | 5         |\n",
    "| 2    | 5           | 18        |\n",
    "| 3    | 4           | 12        |\n",
    "| 4    | 5           | 15        |\n",
    "| 5    | 2           | 3         |\n",
    "| 6    | 3           | 2         |\n",
    "| 7    | 5           | 8         |\n",
    "\n",
    "The goal is to choose items that give the highest value *without exceeding 15 kg total*.\n"
   ]
  },
  {
   "cell_type": "code",
   "execution_count": null,
   "metadata": {
    "id": "-4nA_h8kL8ZP"
   },
   "outputs": [],
   "source": [
    "# 🧮 Solving 0-1 Knapsack Problem Using Gurobi\n",
    "\n",
    "# Step 1: Data (weights, values, capacity)\n",
    "W = [4,2,5,4,5,2,3,5]\n",
    "V = [10,5,18,12,15,3,2,8]\n",
    "C = 15\n",
    "N = len(W)"
   ]
  },
  {
   "cell_type": "code",
   "execution_count": null,
   "metadata": {
    "id": "Yi_oSceuMRUy"
   },
   "outputs": [],
   "source": [
    "# Step 2: Import Gurobi\n",
    "from gurobipy import *\n",
    "# Step 3: Create Model\n",
    "knapsack_model = Model('knapsack')\n"
   ]
  },
  {
   "cell_type": "markdown",
   "metadata": {
    "id": "SYiY0nIWMY2E"
   },
   "source": [
    "*🧮 Mathematical Model of the 0-1 Knapsack Problem*\n",
    "\n",
    "Let:\n",
    "- `n` = total number of items\n",
    "- `vᵢ` = value of item `i`\n",
    "- `wᵢ` = weight of item `i`\n",
    "- `xᵢ` = decision variable:\n",
    "    - 1 if item `i` is selected\n",
    "    - 0 if item `i` is not selected\n",
    "- `C` = capacity of the knapsack\n",
    "\n",
    "We want to:\n",
    "\n",
    "*Maximize:*\n",
    "##       ∑₍ᵢ₌₁ ₜₒ ₙ₎ vᵢ · xᵢ\n",
    "\n",
    "*Subject to:*\n",
    "##        ∑₍ᵢ₌₁ ₜₒ ₙ₎ wᵢ · xᵢ ≤ C\n",
    "\n",
    "*And:*\n",
    "        xᵢ ∈ {0, 1}  for all i = 1 to n"
   ]
  },
  {
   "cell_type": "code",
   "execution_count": null,
   "metadata": {
    "colab": {
     "base_uri": "https://localhost:8080/"
    },
    "id": "nUq81VvlMTbh",
    "outputId": "53713cbf-164a-4157-8e3f-7daa9e49092f"
   },
   "outputs": [
    {
     "name": "stdout",
     "output_type": "stream",
     "text": [
      "Optimization is done. Objective Function Value: 45.00\n",
      "x[0]: 0\n",
      "x[1]: 0\n",
      "x[2]: 0\n",
      "x[3]: 0\n",
      "x[4]: 0\n",
      "x[5]: 0\n",
      "x[6]: 0\n",
      "x[7]: 0\n",
      "x[0]: 0\n",
      "x[1]: 0\n",
      "x[2]: 1\n",
      "x[3]: 1\n",
      "x[4]: 1\n",
      "x[5]: 0\n",
      "x[6]: 0\n",
      "x[7]: 0\n"
     ]
    }
   ],
   "source": [
    "# Step 4: Add Binary Decision Variables\n",
    "X = knapsack_model.addVars(N, vtype=GRB.BINARY, name=\"x\")\n",
    "\n",
    "# Step 5: Objective Function (maximize total value)\n",
    "obj_fn = sum(V[i]*X[i] for i in range(N))\n",
    "knapsack_model.setObjective(obj_fn, GRB.MAXIMIZE)\n",
    "\n",
    "# Step 6: Constraint (total weight ≤ capacity)\n",
    "knapsack_model.addConstr(sum(W[i]*X[i] for i in range(N)) <= C)\n",
    "\n",
    "# Step 7: Solve Model\n",
    "knapsack_model.setParam('OutputFlag', False)\n",
    "knapsack_model.optimize()\n",
    "\n",
    "print('Optimization is done. Objective Function Value: %.2f' % knapsack_model.objVal)\n",
    "\n",
    "for v in knapsack_model.getVars():\n",
    "    print('%s: %g' % (v.varName, v.x))"
   ]
  },
  {
   "cell_type": "code",
   "execution_count": null,
   "metadata": {
    "id": "m69GNvV3xjev"
   },
   "outputs": [],
   "source": []
  }
 ],
 "metadata": {
  "colab": {
   "provenance": []
  },
  "kernelspec": {
   "display_name": "Python 3 (ipykernel)",
   "language": "python",
   "name": "python3"
  },
  "language_info": {
   "codemirror_mode": {
    "name": "ipython",
    "version": 3
   },
   "file_extension": ".py",
   "mimetype": "text/x-python",
   "name": "python",
   "nbconvert_exporter": "python",
   "pygments_lexer": "ipython3",
   "version": "3.13.3"
  }
 },
 "nbformat": 4,
 "nbformat_minor": 4
}
